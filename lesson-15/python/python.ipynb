import json

def read_students():
    with open('students.json', 'r') as file:
        students = json.load(file)
        for student in students:
            print(f"Name: {student['name']}")
            print(f"Age: {student['age']}")
            print(f"Grade: {student['grade']}")
            print('-' * 20)

read_students()
 Task 2: Weather API (Using OpenWeatherMap)

import requests

def get_weather(city):
    api_key = "your_api_key"  # Replace with your API key from openweathermap.org
    url = f"https://api.openweathermap.org/data/2.5/weather?q={city}&appid={api_key}&units=metric"

    response = requests.get(url)
    data = response.json()

    if response.status_code == 200:
        print(f"Weather in {city}:")
        print(f"Temperature: {data['main']['temp']} °C")
        print(f"Humidity: {data['main']['humidity']}%")
        print(f"Condition: {data['weather'][0]['description']}")
    else:
        print("Error getting weather data.")

get_weather("Tashkent")
 Task 3: JSON Modification (books.json)

import json

def load_books():
    try:
        with open('books.json', 'r') as file:
            return json.load(file)
    except FileNotFoundError:
        return []

def save_books(books):
    with open('books.json', 'w') as file:
        json.dump(books, file, indent=4)

def add_book(title, author):
    books = load_books()
    books.append({'title': title, 'author': author})
    save_books(books)

def update_book(old_title, new_title, new_author):
    books = load_books()
    for book in books:
        if book['title'] == old_title:
            book['title'] = new_title
            book['author'] = new_author
    save_books(books)

def delete_book(title):
    books = load_books()
    books = [book for book in books if book['title'] != title]
    save_books(books)


add_book("1984", "George Orwell")
update_book("1984", "Nineteen Eighty-Four", "George Orwell")
delete_book("Nineteen Eighty-Four")
Task 4: Movie Recommendation (Using OMDb API)

import requests
import random

def recommend_movie(genre):
    api_key = "your_api_key"  # Replace with your OMDb API key
    url = f"http://www.omdbapi.com/?apikey={api_key}&type=movie&s={genre}"

    response = requests.get(url)
    data = response.json()

    if data['Response'] == 'True':
        movies = data['Search']
        movie = random.choice(movies)
        print("We recommend:")
        print(f"Title: {movie['Title']}")
        print(f"Year: {movie['Year']}")
    else:
        print("No movies found for this genre.")

recommend_movie("comedy")
