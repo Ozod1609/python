# Exercise 1: Average grade for each student
df1["Average"] = df1[["Math", "English", "Science"]].mean(axis=1)

# Exercise 2: Student with the highest average
top_student = df1.loc[df1["Average"].idxmax()]

# Exercise 3: Total marks per student
df1["Total"] = df1[["Math", "English", "Science"]].sum(axis=1)

# Exercise 4: Bar chart of average grades in each subject
import matplotlib.pyplot as plt

subject_avg = df1[["Math", "English", "Science"]].mean()
subject_avg.plot(kind='bar', title='Average Grades per Subject', ylabel='Average Grade')
plt.show()
DataFrame 2: Sales Data

# Exercise 1: Total sales for each product
total_sales = df2[["Product_A", "Product_B", "Product_C"]].sum()

# Exercise 2: Date with the highest total sales
df2["Total_Sales"] = df2[["Product_A", "Product_B", "Product_C"]].sum(axis=1)
max_sales_date = df2.loc[df2["Total_Sales"].idxmax(), "Date"]

# Exercise 3: % change in sales for each product
pct_change = df2[["Product_A", "Product_B", "Product_C"]].pct_change() * 100

# Exercise 4: Line chart of sales trends
df2.set_index("Date")[["Product_A", "Product_B", "Product_C"]].plot(title="Sales Trends Over Time")
plt.ylabel("Sales")
plt.show()
👩‍💼 DataFrame 3: Employee Information
python
Копировать
Редактировать
# Exercise 1: Average salary per department
avg_salary_dept = df3.groupby("Department")["Salary"].mean()

# Exercise 2: Most experienced employee
most_experienced = df3.loc[df3["Experience (Years)"].idxmax()]

# Exercise 3: Salary Increase from minimum
min_salary = df3["Salary"].min()
df3["Salary Increase (%)"] = ((df3["Salary"] - min_salary) / min_salary) * 100

# Exercise 4: Bar chart of department distribution
dept_counts = df3["Department"].value_counts()
dept_counts.plot(kind='bar', title='Employee Distribution by Department')
plt.ylabel("Number of Employees")
plt.show()
 DataFrame 4: Customer Orders

# Exercise 1: Total revenue
total_revenue = df4["Total_Price"].sum()

# Exercise 2: Most ordered product
most_ordered_product = df4.groupby("Product")["Quantity"].sum().idxmax()

# Exercise 3: Average quantity ordered
average_quantity = df4["Quantity"].mean()

# Exercise 4: Pie chart of product sales distribution
product_sales = df4.groupby("Product")["Total_Price"].sum()
product_sales.plot(kind='pie', autopct='%1.1f%%', title="Sales Distribution by Product")
plt.ylabel("")
plt.show()
